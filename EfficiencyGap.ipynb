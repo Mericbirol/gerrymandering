{
 "cells": [
  {
   "cell_type": "code",
   "execution_count": 13,
   "metadata": {},
   "outputs": [
    {
     "name": "stdout",
     "output_type": "stream",
     "text": [
      "Efficiency gap is in favor of Democrats\n"
     ]
    },
    {
     "data": {
      "text/plain": [
       "-10.435152166188288"
      ]
     },
     "execution_count": 13,
     "metadata": {},
     "output_type": "execute_result"
    }
   ],
   "source": [
    "def efficiencygap(filePath):\n",
    "    import fiona\n",
    "    fh=fiona.open(filePath,'r')\n",
    "    TotalWastedDemocrat=0\n",
    "    TotalWastedRep=0\n",
    "    TotalVotes=0\n",
    "    for f in fh:\n",
    "        repVotes = f['properties']['USPRSR'] #get the republican votes\n",
    "        demVotes = f['properties']['USPRSDFL'] #get the democrat votes\n",
    "        totVotes = repVotes + demVotes #total votes by precints of Democrat and Republican Party\n",
    "        TotalVotes=TotalVotes+totVotes #overall total votes (Republican+Democrat)\n",
    "        if repVotes > demVotes: #if republican won\n",
    "            wastedRVotes = int(( (repVotes - demVotes)/2) - 1) #wasted republican votes\n",
    "            wastedDVotes = demVotes #wasted democrat votes\n",
    "        elif demVotes > repVotes: #if democrat won\n",
    "            wastedDVotes = int(( (demVotes - repVotes)/2) - 1) #wasted democrat votes\n",
    "            wastedRVotes = repVotes #wasted republican votes\n",
    "        TotalWastedDemocrat=TotalWastedDemocrat+wastedDVotes # total wasted votes by democrats\n",
    "        TotalWastedRep=TotalWastedRep+wastedRVotes #total wasted votes by republicans\n",
    "    fh.close # Close the file\n",
    "    effGap=((TotalWastedDemocrat - TotalWastedRep)/TotalVotes)*100 #overall efficiency gap (percentage)\n",
    "    if TotalWastedDemocrat>TotalWastedRep:\n",
    "        print('Efficiency gap is in favor of Republicans')\n",
    "    else:\n",
    "        print('Efficiency gap is in favor of Democrats')\n",
    "    return(effGap)\n",
    "efficiencygap('district maps\\dissolved\\district_map15_diss.shp')"
   ]
  },
  {
   "cell_type": "code",
   "execution_count": null,
   "metadata": {},
   "outputs": [],
   "source": []
  }
 ],
 "metadata": {
  "kernelspec": {
   "display_name": "Python 3",
   "language": "python",
   "name": "python3"
  },
  "language_info": {
   "codemirror_mode": {
    "name": "ipython",
    "version": 3
   },
   "file_extension": ".py",
   "mimetype": "text/x-python",
   "name": "python",
   "nbconvert_exporter": "python",
   "pygments_lexer": "ipython3",
   "version": "3.7.1"
  }
 },
 "nbformat": 4,
 "nbformat_minor": 2
}

{
 "cells": [
  {
   "cell_type": "code",
   "execution_count": 22,
   "metadata": {},
   "outputs": [],
   "source": [
    "import geopandas\n",
    "import matplotlib"
   ]
  },
  {
   "cell_type": "code",
   "execution_count": 29,
   "metadata": {},
   "outputs": [
    {
     "data": {
      "text/html": [
       "<div>\n",
       "<style scoped>\n",
       "    .dataframe tbody tr th:only-of-type {\n",
       "        vertical-align: middle;\n",
       "    }\n",
       "\n",
       "    .dataframe tbody tr th {\n",
       "        vertical-align: top;\n",
       "    }\n",
       "\n",
       "    .dataframe thead th {\n",
       "        text-align: right;\n",
       "    }\n",
       "</style>\n",
       "<table border=\"1\" class=\"dataframe\">\n",
       "  <thead>\n",
       "    <tr style=\"text-align: right;\">\n",
       "      <th></th>\n",
       "      <th>geometry</th>\n",
       "      <th>USPRSR</th>\n",
       "      <th>USPRSDFL</th>\n",
       "      <th>USPRSTOTAL</th>\n",
       "    </tr>\n",
       "    <tr>\n",
       "      <th>pop_dist</th>\n",
       "      <th></th>\n",
       "      <th></th>\n",
       "      <th></th>\n",
       "      <th></th>\n",
       "    </tr>\n",
       "  </thead>\n",
       "  <tbody>\n",
       "    <tr>\n",
       "      <th>1</th>\n",
       "      <td>(POLYGON ((488392.3487999998 4924229.287900001...</td>\n",
       "      <td>369785.0</td>\n",
       "      <td>452326.0</td>\n",
       "      <td>899818.0</td>\n",
       "    </tr>\n",
       "    <tr>\n",
       "      <th>2</th>\n",
       "      <td>POLYGON ((624091.3795999996 4817560.41, 624055...</td>\n",
       "      <td>220207.0</td>\n",
       "      <td>297381.0</td>\n",
       "      <td>569333.0</td>\n",
       "    </tr>\n",
       "    <tr>\n",
       "      <th>3</th>\n",
       "      <td>(POLYGON ((456562.7005000003 4980916.500800001...</td>\n",
       "      <td>431204.0</td>\n",
       "      <td>245055.0</td>\n",
       "      <td>735026.0</td>\n",
       "    </tr>\n",
       "    <tr>\n",
       "      <th>4</th>\n",
       "      <td>(POLYGON ((470212.5661000004 5239848.3574, 470...</td>\n",
       "      <td>299821.0</td>\n",
       "      <td>368983.0</td>\n",
       "      <td>734228.0</td>\n",
       "    </tr>\n",
       "  </tbody>\n",
       "</table>\n",
       "</div>"
      ],
      "text/plain": [
       "                                                   geometry    USPRSR  \\\n",
       "pop_dist                                                                \n",
       "1         (POLYGON ((488392.3487999998 4924229.287900001...  369785.0   \n",
       "2         POLYGON ((624091.3795999996 4817560.41, 624055...  220207.0   \n",
       "3         (POLYGON ((456562.7005000003 4980916.500800001...  431204.0   \n",
       "4         (POLYGON ((470212.5661000004 5239848.3574, 470...  299821.0   \n",
       "\n",
       "          USPRSDFL  USPRSTOTAL  \n",
       "pop_dist                        \n",
       "1         452326.0    899818.0  \n",
       "2         297381.0    569333.0  \n",
       "3         245055.0    735026.0  \n",
       "4         368983.0    734228.0  "
      ]
     },
     "execution_count": 29,
     "metadata": {},
     "output_type": "execute_result"
    },
    {
     "data": {
      "image/png": "[encoded data removed]",
      "text/plain": [
       "<Figure size 432x288 with 1 Axes>"
      ]
     },
     "metadata": {
      "needs_background": "light"
     },
     "output_type": "display_data"
    }
   ],
   "source": [
    "precinct = geopandas.read_file('precincts_shapefile\\elec2016.shp')\n",
    "\n",
    "precinct = precinct[['USPRSR', 'USPRSDFL', 'USPRSTOTAL', 'geometry','pop_dist']]\n",
    "\n",
    "prdiss = precinct.dissolve(by='pop_dist',aggfunc='sum')\n",
    "\n",
    "prdiss.plot()\n",
    "\n",
    "prdiss.head()"
   ]
  }
 ],
 "metadata": {
  "kernelspec": {
   "display_name": "Python 3",
   "language": "python",
   "name": "python3"
  }
 },
 "nbformat": 4,
 "nbformat_minor": 2
}
